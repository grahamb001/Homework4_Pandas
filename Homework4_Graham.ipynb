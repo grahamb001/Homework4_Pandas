{
 "cells": [
  {
   "cell_type": "markdown",
   "metadata": {},
   "source": [
    "### Heroes Of Pymoli Data Analysis\n",
    "* Of the 1163 active players, the vast majority are male (84%). There also exists, a smaller, but notable proportion of female players (14%).\n",
    "\n",
    "* Our peak age demographic falls between 20-24 (44.8%) with secondary groups falling between 15-19 (18.60%) and 25-29 (13.4%).  \n",
    "-----"
   ]
  },
  {
   "cell_type": "markdown",
   "metadata": {},
   "source": [
    "### Note\n",
    "* Instructions have been included for each segment. You do not have to follow them exactly, but they are included to help you think through the steps."
   ]
  },
  {
   "cell_type": "code",
   "execution_count": 1,
   "metadata": {},
   "outputs": [],
   "source": [
    "# Dependencies and Setup\n",
    "import pandas as pd\n",
    "import numpy as np\n",
    "\n",
    "# Raw data file\n",
    "file_to_load = \"Resources/purchase_data.csv\"\n",
    "\n",
    "# Read purchasing file and store into pandas data frame\n",
    "purchase_data = pd.read_csv(file_to_load)\n",
    "\n",
    "#sneakin a peek at the data without opening Excel **for fun: http://theoatmeal.com/comics/sneak_peek\n",
    "#purchase_data.head()"
   ]
  },
  {
   "cell_type": "markdown",
   "metadata": {},
   "source": [
    "## Player Count"
   ]
  },
  {
   "cell_type": "markdown",
   "metadata": {},
   "source": [
    "* Display the total number of players\n"
   ]
  },
  {
   "cell_type": "code",
   "execution_count": 2,
   "metadata": {},
   "outputs": [
    {
     "data": {
      "text/html": [
       "<div>\n",
       "<style scoped>\n",
       "    .dataframe tbody tr th:only-of-type {\n",
       "        vertical-align: middle;\n",
       "    }\n",
       "\n",
       "    .dataframe tbody tr th {\n",
       "        vertical-align: top;\n",
       "    }\n",
       "\n",
       "    .dataframe thead th {\n",
       "        text-align: right;\n",
       "    }\n",
       "</style>\n",
       "<table border=\"1\" class=\"dataframe\">\n",
       "  <thead>\n",
       "    <tr style=\"text-align: right;\">\n",
       "      <th></th>\n",
       "      <th>Total Players</th>\n",
       "    </tr>\n",
       "  </thead>\n",
       "  <tbody>\n",
       "    <tr>\n",
       "      <th>0</th>\n",
       "      <td>576</td>\n",
       "    </tr>\n",
       "  </tbody>\n",
       "</table>\n",
       "</div>"
      ],
      "text/plain": [
       "   Total Players\n",
       "0            576"
      ]
     },
     "execution_count": 2,
     "metadata": {},
     "output_type": "execute_result"
    }
   ],
   "source": [
    "#Trick question - some users made more than 1 purchase. Find *Unique* screen names\n",
    "uniquePlayers = len(purchase_data[\"SN\"].unique())\n",
    "#I could just print this, but I have to turn my total into a dataset in order for it to look exactly like Rob's output\n",
    "uniquePlayers = pd.DataFrame({\"SN\": [uniquePlayers]})\n",
    "#and I have to change the title of SN to Total Players so that it looks like Rob's output, too.\n",
    "uniquePlayers = uniquePlayers.rename(columns={\"SN\":\"Total Players\"})\n",
    "uniquePlayers"
   ]
  },
  {
   "cell_type": "markdown",
   "metadata": {},
   "source": [
    "## Purchasing Analysis (Total)"
   ]
  },
  {
   "cell_type": "markdown",
   "metadata": {},
   "source": [
    "* Run basic calculations to obtain number of unique items, average price, etc.\n",
    "\n",
    "\n",
    "* Create a summary data frame to hold the results\n",
    "\n",
    "\n",
    "* Optional: give the displayed data cleaner formatting\n",
    "\n",
    "\n",
    "* Display the summary data frame\n"
   ]
  },
  {
   "cell_type": "code",
   "execution_count": 3,
   "metadata": {
    "scrolled": true
   },
   "outputs": [
    {
     "data": {
      "text/html": [
       "<div>\n",
       "<style scoped>\n",
       "    .dataframe tbody tr th:only-of-type {\n",
       "        vertical-align: middle;\n",
       "    }\n",
       "\n",
       "    .dataframe tbody tr th {\n",
       "        vertical-align: top;\n",
       "    }\n",
       "\n",
       "    .dataframe thead th {\n",
       "        text-align: right;\n",
       "    }\n",
       "</style>\n",
       "<table border=\"1\" class=\"dataframe\">\n",
       "  <thead>\n",
       "    <tr style=\"text-align: right;\">\n",
       "      <th></th>\n",
       "      <th>Number of Unique Items</th>\n",
       "      <th>Average Price</th>\n",
       "      <th>Number of Purchases</th>\n",
       "      <th>Total Revenue</th>\n",
       "    </tr>\n",
       "  </thead>\n",
       "  <tbody>\n",
       "    <tr>\n",
       "      <th>0</th>\n",
       "      <td>183</td>\n",
       "      <td>$3.05</td>\n",
       "      <td>780</td>\n",
       "      <td>$2,379.77</td>\n",
       "    </tr>\n",
       "  </tbody>\n",
       "</table>\n",
       "</div>"
      ],
      "text/plain": [
       "   Number of Unique Items Average Price  Number of Purchases Total Revenue\n",
       "0                     183         $3.05                  780     $2,379.77"
      ]
     },
     "execution_count": 3,
     "metadata": {},
     "output_type": "execute_result"
    }
   ],
   "source": [
    "#Determine values for table\n",
    "uniqueItems = len(purchase_data[\"Item ID\"].unique())\n",
    "avgPrice = \"${:,.2f}\".format(purchase_data[\"Price\"].mean())\n",
    "totalPurchases = purchase_data[\"Purchase ID\"].count()\n",
    "totalRevenue = \"${:,.2f}\".format(purchase_data[\"Price\"].sum())\n",
    "\n",
    "#Place all of the data found into a summary DataFrame\n",
    "purchaseAnalysis = pd.DataFrame({\"Number of Unique Items\": [uniqueItems], \"Average Price\": [avgPrice],\n",
    "                              \"Number of Purchases\": [totalPurchases], \"Total Revenue\": [totalRevenue]})\n",
    "purchaseAnalysis"
   ]
  },
  {
   "cell_type": "markdown",
   "metadata": {},
   "source": [
    "## Gender Demographics"
   ]
  },
  {
   "cell_type": "markdown",
   "metadata": {},
   "source": [
    "* Percentage and Count of Male Players\n",
    "\n",
    "\n",
    "* Percentage and Count of Female Players\n",
    "\n",
    "\n",
    "* Percentage and Count of Other / Non-Disclosed\n",
    "\n",
    "\n"
   ]
  },
  {
   "cell_type": "code",
   "execution_count": 4,
   "metadata": {},
   "outputs": [
    {
     "data": {
      "text/html": [
       "<div>\n",
       "<style scoped>\n",
       "    .dataframe tbody tr th:only-of-type {\n",
       "        vertical-align: middle;\n",
       "    }\n",
       "\n",
       "    .dataframe tbody tr th {\n",
       "        vertical-align: top;\n",
       "    }\n",
       "\n",
       "    .dataframe thead th {\n",
       "        text-align: right;\n",
       "    }\n",
       "</style>\n",
       "<table border=\"1\" class=\"dataframe\">\n",
       "  <thead>\n",
       "    <tr style=\"text-align: right;\">\n",
       "      <th></th>\n",
       "      <th>Percentage of Players</th>\n",
       "      <th>Total Count</th>\n",
       "    </tr>\n",
       "    <tr>\n",
       "      <th>Gender</th>\n",
       "      <th></th>\n",
       "      <th></th>\n",
       "    </tr>\n",
       "  </thead>\n",
       "  <tbody>\n",
       "    <tr>\n",
       "      <th>Male</th>\n",
       "      <td>84.0</td>\n",
       "      <td>652</td>\n",
       "    </tr>\n",
       "    <tr>\n",
       "      <th>Female</th>\n",
       "      <td>14.0</td>\n",
       "      <td>113</td>\n",
       "    </tr>\n",
       "    <tr>\n",
       "      <th>Other / Non-Disclosed</th>\n",
       "      <td>2.0</td>\n",
       "      <td>15</td>\n",
       "    </tr>\n",
       "  </tbody>\n",
       "</table>\n",
       "</div>"
      ],
      "text/plain": [
       "                       Percentage of Players  Total Count\n",
       "Gender                                                   \n",
       "Male                                    84.0          652\n",
       "Female                                  14.0          113\n",
       "Other / Non-Disclosed                    2.0           15"
      ]
     },
     "execution_count": 4,
     "metadata": {},
     "output_type": "execute_result"
    }
   ],
   "source": [
    "totalPlayers = (purchase_data[\"SN\"].count())\n",
    "\n",
    "#Group, Count, and determine Percentage of Male Players\n",
    "groupingMale= purchase_data.groupby([\"Gender\"]).get_group((\"Male\"))\n",
    "countingMale= groupingMale[\"SN\"].count()\n",
    "percentMale= round((countingMale/totalPlayers),2)*100\n",
    "\n",
    "#Group, Count, and determine Percentage of Female Players\n",
    "groupingFemale= purchase_data.groupby([\"Gender\"]).get_group((\"Female\"))\n",
    "countingFemale= groupingFemale[\"SN\"].count()\n",
    "percentFemale= round((countingFemale/totalPlayers),2)*100\n",
    "\n",
    "#Group, Count, and determine Percentage of Other / Non-Disclosed Players\n",
    "groupingOther= purchase_data.groupby([\"Gender\"]).get_group((\"Other / Non-Disclosed\"))\n",
    "countingOther= groupingOther[\"SN\"].count()\n",
    "percentOther= round((countingOther/totalPlayers),2)*100\n",
    "\n",
    "#Make it into a Gender DataFrame\n",
    "gender = {\"Gender\":[\"Male\",\"Female\",\"Other / Non-Disclosed\"],\"Percentage of Players\":[percentMale,percentFemale,percentOther],\n",
    "          \"Total Count\":[countingMale,countingFemale,countingOther]}\n",
    "genderTable =  pd.DataFrame(gender)\n",
    "genderTable= genderTable.set_index(\"Gender\")\n",
    "genderTable\n",
    "\n",
    "#I know my totals don't match Rob's but my percentages add up to 100, unline Rob's..."
   ]
  },
  {
   "cell_type": "markdown",
   "metadata": {},
   "source": [
    "\n",
    "## Purchasing Analysis (Gender)"
   ]
  },
  {
   "cell_type": "markdown",
   "metadata": {},
   "source": [
    "* Run basic calculations to obtain purchase count, avg. purchase price, avg. purchase total per person etc. by gender\n",
    "\n",
    "\n",
    "\n",
    "\n",
    "* Create a summary data frame to hold the results\n",
    "\n",
    "\n",
    "* Optional: give the displayed data cleaner formatting\n",
    "\n",
    "\n",
    "* Display the summary data frame"
   ]
  },
  {
   "cell_type": "code",
   "execution_count": 5,
   "metadata": {},
   "outputs": [
    {
     "data": {
      "text/html": [
       "<div>\n",
       "<style scoped>\n",
       "    .dataframe tbody tr th:only-of-type {\n",
       "        vertical-align: middle;\n",
       "    }\n",
       "\n",
       "    .dataframe tbody tr th {\n",
       "        vertical-align: top;\n",
       "    }\n",
       "\n",
       "    .dataframe thead th {\n",
       "        text-align: right;\n",
       "    }\n",
       "</style>\n",
       "<table border=\"1\" class=\"dataframe\">\n",
       "  <thead>\n",
       "    <tr style=\"text-align: right;\">\n",
       "      <th></th>\n",
       "      <th>Purchase Count</th>\n",
       "      <th>Average Purchase Price</th>\n",
       "      <th>Total Purchase Value</th>\n",
       "      <th>Avg Purchase Total per Person</th>\n",
       "    </tr>\n",
       "    <tr>\n",
       "      <th>Gender</th>\n",
       "      <th></th>\n",
       "      <th></th>\n",
       "      <th></th>\n",
       "      <th></th>\n",
       "    </tr>\n",
       "  </thead>\n",
       "  <tbody>\n",
       "    <tr>\n",
       "      <th>Male</th>\n",
       "      <td>652</td>\n",
       "      <td>$3.02</td>\n",
       "      <td>$1,967.64</td>\n",
       "      <td>$3.02</td>\n",
       "    </tr>\n",
       "    <tr>\n",
       "      <th>Female</th>\n",
       "      <td>113</td>\n",
       "      <td>$3.20</td>\n",
       "      <td>$361.94</td>\n",
       "      <td>$3.20</td>\n",
       "    </tr>\n",
       "    <tr>\n",
       "      <th>Other / Non-Disclosed</th>\n",
       "      <td>15</td>\n",
       "      <td>$3.35</td>\n",
       "      <td>$50.19</td>\n",
       "      <td>$3.35</td>\n",
       "    </tr>\n",
       "  </tbody>\n",
       "</table>\n",
       "</div>"
      ],
      "text/plain": [
       "                       Purchase Count Average Purchase Price  \\\n",
       "Gender                                                         \n",
       "Male                              652                  $3.02   \n",
       "Female                            113                  $3.20   \n",
       "Other / Non-Disclosed              15                  $3.35   \n",
       "\n",
       "                      Total Purchase Value Avg Purchase Total per Person  \n",
       "Gender                                                                    \n",
       "Male                             $1,967.64                         $3.02  \n",
       "Female                             $361.94                         $3.20  \n",
       "Other / Non-Disclosed               $50.19                         $3.35  "
      ]
     },
     "execution_count": 5,
     "metadata": {},
     "output_type": "execute_result"
    }
   ],
   "source": [
    "#Determine values for table\n",
    "#Male\n",
    "mPurchaseCount = len(groupingMale[\"Purchase ID\"].unique())\n",
    "mAvgPurPrice = \"${:,.2f}\".format(groupingMale[\"Price\"].mean())\n",
    "mTotalPurchaseVal= \"${:,.2f}\".format(groupingMale[\"Price\"].sum())\n",
    "mAvgPurTotalPerPerson = \"${:,.2f}\".format(groupingMale[\"Price\"].sum() / mPurchaseCount)\n",
    "\n",
    "#Female\n",
    "fPurchaseCount = len(groupingFemale[\"Purchase ID\"].unique())\n",
    "fAvgPurPrice = \"${:,.2f}\".format(groupingFemale[\"Price\"].mean())\n",
    "fTotalPurchaseVal= \"${:,.2f}\".format(groupingFemale[\"Price\"].sum())\n",
    "fAvgPurTotalPerPerson = \"${:,.2f}\".format(groupingFemale[\"Price\"].sum() / fPurchaseCount)\n",
    "\n",
    "#Other\n",
    "oPurchaseCount = len(groupingOther[\"Purchase ID\"].unique())\n",
    "oAvgPurPrice = \"${:,.2f}\".format(groupingOther[\"Price\"].mean())\n",
    "oTotalPurchaseVal= \"${:,.2f}\".format(groupingOther[\"Price\"].sum())\n",
    "oAvgPurTotalPerPerson = \"${:,.2f}\".format(groupingOther[\"Price\"].sum() / oPurchaseCount)\n",
    "\n",
    "#Place all of the data found into a summary DataFrame\n",
    "genderPurchaseAnalysis = pd.DataFrame({\"Gender\":[\"Male\",\"Female\",\"Other / Non-Disclosed\"],\n",
    "                                       \"Purchase Count\": [mPurchaseCount, fPurchaseCount, oPurchaseCount],\n",
    "                                       \"Average Purchase Price\": [mAvgPurPrice, fAvgPurPrice, oAvgPurPrice],\n",
    "                                       \"Total Purchase Value\": [mTotalPurchaseVal, fTotalPurchaseVal, oTotalPurchaseVal], \n",
    "                                       \"Avg Purchase Total per Person\": [mAvgPurTotalPerPerson, fAvgPurTotalPerPerson, oAvgPurTotalPerPerson]})\n",
    "genderPurchaseAnalysisTable= genderPurchaseAnalysis.set_index('Gender')\n",
    "genderPurchaseAnalysisTable\n",
    "\n"
   ]
  },
  {
   "cell_type": "markdown",
   "metadata": {},
   "source": [
    "## Age Demographics"
   ]
  },
  {
   "cell_type": "markdown",
   "metadata": {},
   "source": [
    "* Establish bins for ages\n",
    "\n",
    "\n",
    "* Categorize the existing players using the age bins. Hint: use pd.cut()\n",
    "\n",
    "\n",
    "* Calculate the numbers and percentages by age group\n",
    "\n",
    "\n",
    "* Create a summary data frame to hold the results\n",
    "\n",
    "\n",
    "* Optional: round the percentage column to two decimal points\n",
    "\n",
    "\n",
    "* Display Age Demographics Table\n"
   ]
  },
  {
   "cell_type": "code",
   "execution_count": 6,
   "metadata": {
    "scrolled": true
   },
   "outputs": [
    {
     "data": {
      "text/html": [
       "<div>\n",
       "<style scoped>\n",
       "    .dataframe tbody tr th:only-of-type {\n",
       "        vertical-align: middle;\n",
       "    }\n",
       "\n",
       "    .dataframe tbody tr th {\n",
       "        vertical-align: top;\n",
       "    }\n",
       "\n",
       "    .dataframe thead th {\n",
       "        text-align: right;\n",
       "    }\n",
       "</style>\n",
       "<table border=\"1\" class=\"dataframe\">\n",
       "  <thead>\n",
       "    <tr style=\"text-align: right;\">\n",
       "      <th></th>\n",
       "      <th>Percentage of Players</th>\n",
       "      <th>Total Count</th>\n",
       "    </tr>\n",
       "  </thead>\n",
       "  <tbody>\n",
       "    <tr>\n",
       "      <th>&lt;10</th>\n",
       "      <td>2.95</td>\n",
       "      <td>23</td>\n",
       "    </tr>\n",
       "    <tr>\n",
       "      <th>10-14</th>\n",
       "      <td>3.59</td>\n",
       "      <td>28</td>\n",
       "    </tr>\n",
       "    <tr>\n",
       "      <th>15-19</th>\n",
       "      <td>17.44</td>\n",
       "      <td>136</td>\n",
       "    </tr>\n",
       "    <tr>\n",
       "      <th>20-24</th>\n",
       "      <td>46.79</td>\n",
       "      <td>365</td>\n",
       "    </tr>\n",
       "    <tr>\n",
       "      <th>25-29</th>\n",
       "      <td>12.95</td>\n",
       "      <td>101</td>\n",
       "    </tr>\n",
       "    <tr>\n",
       "      <th>30-34</th>\n",
       "      <td>9.36</td>\n",
       "      <td>73</td>\n",
       "    </tr>\n",
       "    <tr>\n",
       "      <th>35-39</th>\n",
       "      <td>5.26</td>\n",
       "      <td>41</td>\n",
       "    </tr>\n",
       "    <tr>\n",
       "      <th>&gt;40</th>\n",
       "      <td>1.67</td>\n",
       "      <td>13</td>\n",
       "    </tr>\n",
       "  </tbody>\n",
       "</table>\n",
       "</div>"
      ],
      "text/plain": [
       "       Percentage of Players  Total Count\n",
       "<10                     2.95           23\n",
       "10-14                   3.59           28\n",
       "15-19                  17.44          136\n",
       "20-24                  46.79          365\n",
       "25-29                  12.95          101\n",
       "30-34                   9.36           73\n",
       "35-39                   5.26           41\n",
       ">40                     1.67           13"
      ]
     },
     "execution_count": 6,
     "metadata": {},
     "output_type": "execute_result"
    }
   ],
   "source": [
    "age_bins = [0, 9.90, 14.90, 19.90, 24.9, 29.9, 34.90, 39.90, 9999999]\n",
    "group_names = [\"<10\", \"10-14\", \"15-19\", \"20-24\", \"25-29\", \"30-34\", \"35-39\", \">40\"]\n",
    "player_demographics = purchase_data.loc[:, [\"Gender\", \"SN\", \"Age\"]]\n",
    "\n",
    "player_demographics[\"Age Ranges\"] = pd.cut(player_demographics[\"Age\"], age_bins, labels=group_names)\n",
    "age_demographics_totals = player_demographics[\"Age Ranges\"].value_counts()\n",
    "age_demographics_percents = round((age_demographics_totals / totalPlayers * 100),2)\n",
    "\n",
    "age_demographics = pd.DataFrame({\"Percentage of Players\": age_demographics_percents , \"Total Count\": age_demographics_totals})\n",
    "age_demographics = age_demographics.sort_index()\n",
    "age_demographics\n",
    "\n",
    "#Again, percentages don't match Rob's but they add up to 100. "
   ]
  },
  {
   "cell_type": "markdown",
   "metadata": {},
   "source": [
    "## Purchasing Analysis (Age)"
   ]
  },
  {
   "cell_type": "code",
   "execution_count": 14,
   "metadata": {},
   "outputs": [
    {
     "data": {
      "text/html": [
       "<div>\n",
       "<style scoped>\n",
       "    .dataframe tbody tr th:only-of-type {\n",
       "        vertical-align: middle;\n",
       "    }\n",
       "\n",
       "    .dataframe tbody tr th {\n",
       "        vertical-align: top;\n",
       "    }\n",
       "\n",
       "    .dataframe thead th {\n",
       "        text-align: right;\n",
       "    }\n",
       "</style>\n",
       "<table border=\"1\" class=\"dataframe\">\n",
       "  <thead>\n",
       "    <tr style=\"text-align: right;\">\n",
       "      <th></th>\n",
       "      <th>Purchase Count</th>\n",
       "      <th>Average Purchase Price</th>\n",
       "      <th>Total Purchase Value</th>\n",
       "      <th>Average Purchase Total per Person</th>\n",
       "    </tr>\n",
       "    <tr>\n",
       "      <th>Age Bin</th>\n",
       "      <th></th>\n",
       "      <th></th>\n",
       "      <th></th>\n",
       "      <th></th>\n",
       "    </tr>\n",
       "  </thead>\n",
       "  <tbody>\n",
       "    <tr>\n",
       "      <th>10 - 14</th>\n",
       "      <td>28</td>\n",
       "      <td>2.956429</td>\n",
       "      <td>82.78</td>\n",
       "      <td>3.762727</td>\n",
       "    </tr>\n",
       "    <tr>\n",
       "      <th>15 - 19</th>\n",
       "      <td>136</td>\n",
       "      <td>3.035956</td>\n",
       "      <td>412.89</td>\n",
       "      <td>3.858785</td>\n",
       "    </tr>\n",
       "    <tr>\n",
       "      <th>20 - 24</th>\n",
       "      <td>365</td>\n",
       "      <td>3.052219</td>\n",
       "      <td>1114.06</td>\n",
       "      <td>4.318062</td>\n",
       "    </tr>\n",
       "    <tr>\n",
       "      <th>25 - 29</th>\n",
       "      <td>101</td>\n",
       "      <td>2.900990</td>\n",
       "      <td>293.00</td>\n",
       "      <td>3.805195</td>\n",
       "    </tr>\n",
       "    <tr>\n",
       "      <th>30 - 34</th>\n",
       "      <td>73</td>\n",
       "      <td>2.931507</td>\n",
       "      <td>214.00</td>\n",
       "      <td>4.115385</td>\n",
       "    </tr>\n",
       "    <tr>\n",
       "      <th>35 - 39</th>\n",
       "      <td>41</td>\n",
       "      <td>3.601707</td>\n",
       "      <td>147.67</td>\n",
       "      <td>4.763548</td>\n",
       "    </tr>\n",
       "    <tr>\n",
       "      <th>&lt; 10</th>\n",
       "      <td>23</td>\n",
       "      <td>3.353478</td>\n",
       "      <td>77.13</td>\n",
       "      <td>4.537059</td>\n",
       "    </tr>\n",
       "    <tr>\n",
       "      <th>&gt; 40</th>\n",
       "      <td>13</td>\n",
       "      <td>2.941538</td>\n",
       "      <td>38.24</td>\n",
       "      <td>3.186667</td>\n",
       "    </tr>\n",
       "  </tbody>\n",
       "</table>\n",
       "</div>"
      ],
      "text/plain": [
       "         Purchase Count  Average Purchase Price  Total Purchase Value  \\\n",
       "Age Bin                                                                 \n",
       "10 - 14              28                2.956429                 82.78   \n",
       "15 - 19             136                3.035956                412.89   \n",
       "20 - 24             365                3.052219               1114.06   \n",
       "25 - 29             101                2.900990                293.00   \n",
       "30 - 34              73                2.931507                214.00   \n",
       "35 - 39              41                3.601707                147.67   \n",
       "< 10                 23                3.353478                 77.13   \n",
       "> 40                 13                2.941538                 38.24   \n",
       "\n",
       "         Average Purchase Total per Person  \n",
       "Age Bin                                     \n",
       "10 - 14                           3.762727  \n",
       "15 - 19                           3.858785  \n",
       "20 - 24                           4.318062  \n",
       "25 - 29                           3.805195  \n",
       "30 - 34                           4.115385  \n",
       "35 - 39                           4.763548  \n",
       "< 10                              4.537059  \n",
       "> 40                              3.186667  "
      ]
     },
     "execution_count": 14,
     "metadata": {},
     "output_type": "execute_result"
    }
   ],
   "source": [
    "purchase_data.loc[(purchase_data[\"Age\"] < 10), \"Age Bin\"] = \"< 10\"\n",
    "purchase_data.loc[(purchase_data[\"Age\"] >= 10) & (purchase_data[\"Age\"] <= 14), \"Age Bin\"] = \"10 - 14\"\n",
    "purchase_data.loc[(purchase_data[\"Age\"] >= 15) & (purchase_data[\"Age\"] <= 19), \"Age Bin\"] = \"15 - 19\"\n",
    "purchase_data.loc[(purchase_data[\"Age\"] >= 20) & (purchase_data[\"Age\"] <= 24), \"Age Bin\"] = \"20 - 24\"\n",
    "purchase_data.loc[(purchase_data[\"Age\"] >= 25) & (purchase_data[\"Age\"] <= 29), \"Age Bin\"] = \"25 - 29\"\n",
    "purchase_data.loc[(purchase_data[\"Age\"] >= 30) & (purchase_data[\"Age\"] <= 34), \"Age Bin\"] = \"30 - 34\"\n",
    "purchase_data.loc[(purchase_data[\"Age\"] >= 35) & (purchase_data[\"Age\"] <= 39), \"Age Bin\"] = \"35 - 39\"\n",
    "purchase_data.loc[(purchase_data[\"Age\"] >= 40), \"Age Bin\"] = \"> 40\"\n",
    "\n",
    "#Determine values for table\n",
    "purCountAge = pd.DataFrame(purchase_data.groupby(\"Age Bin\")[\"SN\"].count())\n",
    "avgPriceAge = pd.DataFrame(purchase_data.groupby(\"Age Bin\")[\"Price\"].mean())\n",
    "totPurAge = pd.DataFrame(purchase_data.groupby(\"Age Bin\")[\"Price\"].sum())\n",
    "noDupAge = pd.DataFrame(purchase_data.drop_duplicates(\"SN\", keep = \"last\").groupby(\"Age Bin\")[\"SN\"].count())\n",
    "\n",
    "#Merges all info from above into one df\n",
    "mergeAge = pd.merge(purCountAge, avgPriceAge, left_index = True, \n",
    "                     right_index = True).merge(totPurAge, left_index = True, \n",
    "                                               right_index = True).merge(noDupAge, left_index = True, right_index = True)\n",
    "\n",
    "mergeAge.rename(columns = {\"SN_x\": \"Purchase Count\", \"Price_x\": \"Average Purchase Price\", \n",
    "                            \"Price_y\": \"Total Purchase Value\", \"SN_y\": \"# of Purchasers\"}, inplace = True)\n",
    "mergeAge[\"Average Purchase Total per Person\"] = mergeAge[\"Total Purchase Value\"]/mergeAge[\"# of Purchasers\"]\n",
    "mergeAge = mergeAge.drop(\"# of Purchasers\", 1)\n",
    "\n",
    "mergeAge"
   ]
  },
  {
   "cell_type": "markdown",
   "metadata": {},
   "source": [
    "## Top Spenders"
   ]
  },
  {
   "cell_type": "markdown",
   "metadata": {},
   "source": [
    "* Run basic calculations to obtain the results in the table below\n",
    "\n",
    "\n",
    "* Create a summary data frame to hold the results\n",
    "\n",
    "\n",
    "* Sort the total purchase value column in descending order\n",
    "\n",
    "\n",
    "* Optional: give the displayed data cleaner formatting\n",
    "\n",
    "\n",
    "* Display a preview of the summary data frame\n",
    "\n"
   ]
  },
  {
   "cell_type": "code",
   "execution_count": 8,
   "metadata": {},
   "outputs": [
    {
     "data": {
      "text/html": [
       "<div>\n",
       "<style scoped>\n",
       "    .dataframe tbody tr th:only-of-type {\n",
       "        vertical-align: middle;\n",
       "    }\n",
       "\n",
       "    .dataframe tbody tr th {\n",
       "        vertical-align: top;\n",
       "    }\n",
       "\n",
       "    .dataframe thead th {\n",
       "        text-align: right;\n",
       "    }\n",
       "</style>\n",
       "<table border=\"1\" class=\"dataframe\">\n",
       "  <thead>\n",
       "    <tr style=\"text-align: right;\">\n",
       "      <th></th>\n",
       "      <th>Purchase Count</th>\n",
       "      <th>Average Purchase Price</th>\n",
       "      <th>Total Purchase Value</th>\n",
       "    </tr>\n",
       "    <tr>\n",
       "      <th>SN</th>\n",
       "      <th></th>\n",
       "      <th></th>\n",
       "      <th></th>\n",
       "    </tr>\n",
       "  </thead>\n",
       "  <tbody>\n",
       "    <tr>\n",
       "      <th>Lisosia93</th>\n",
       "      <td>5</td>\n",
       "      <td>$3.79</td>\n",
       "      <td>$18.96</td>\n",
       "    </tr>\n",
       "    <tr>\n",
       "      <th>Idastidru52</th>\n",
       "      <td>4</td>\n",
       "      <td>$3.86</td>\n",
       "      <td>$15.45</td>\n",
       "    </tr>\n",
       "    <tr>\n",
       "      <th>Chamjask73</th>\n",
       "      <td>3</td>\n",
       "      <td>$4.61</td>\n",
       "      <td>$13.83</td>\n",
       "    </tr>\n",
       "    <tr>\n",
       "      <th>Iral74</th>\n",
       "      <td>4</td>\n",
       "      <td>$3.40</td>\n",
       "      <td>$13.62</td>\n",
       "    </tr>\n",
       "    <tr>\n",
       "      <th>Iskadarya95</th>\n",
       "      <td>3</td>\n",
       "      <td>$4.37</td>\n",
       "      <td>$13.10</td>\n",
       "    </tr>\n",
       "  </tbody>\n",
       "</table>\n",
       "</div>"
      ],
      "text/plain": [
       "             Purchase Count Average Purchase Price Total Purchase Value\n",
       "SN                                                                     \n",
       "Lisosia93                 5                  $3.79               $18.96\n",
       "Idastidru52               4                  $3.86               $15.45\n",
       "Chamjask73                3                  $4.61               $13.83\n",
       "Iral74                    4                  $3.40               $13.62\n",
       "Iskadarya95               3                  $4.37               $13.10"
      ]
     },
     "execution_count": 8,
     "metadata": {},
     "output_type": "execute_result"
    }
   ],
   "source": [
    "#Group by screen name to find, total purchase per person, number of purchases per person, and average price price per person\n",
    "purchaseCount = pd.DataFrame(purchase_data.groupby(\"SN\")[\"Price\"].count())\n",
    "avgPurchasePrice= pd.DataFrame(purchase_data.groupby(\"SN\")[\"Price\"].mean())\n",
    "totalPurchaseValue = pd.DataFrame(purchase_data.groupby(\"SN\")[\"Price\"].sum())\n",
    "#merge \n",
    "merged_top5 = pd.merge(totalPurchaseValue, purchaseCount, left_index = True, right_index = True).merge(avgPurchasePrice, left_index=True, right_index=True)\n",
    "#rename columns\n",
    "merged_top5.rename(columns = {\"Price_y\":\"Purchase Count\", \"Price\":\"Average Purchase Price\" , 'Price_x': 'Total Purchase Value'}, inplace = True)\n",
    "#sort \n",
    "merged_top5.sort_values(\"Total Purchase Value\", ascending = False, inplace=True)\n",
    "#limit results to top 5 only\n",
    "merged_top5 = merged_top5.head()\n",
    "organized_df = merged_top5[[\"Purchase Count\",\"Average Purchase Price\",\"Total Purchase Value\"]]\n",
    "#format\n",
    "organized_df[\"Average Purchase Price\"] = organized_df[\"Average Purchase Price\"].map(\"${:.2f}\".format)\n",
    "organized_df[\"Total Purchase Value\"] = organized_df[\"Total Purchase Value\"].map(\"${:.2f}\".format)\n",
    "\n",
    "organized_df"
   ]
  },
  {
   "cell_type": "markdown",
   "metadata": {},
   "source": [
    "## Most Popular Items"
   ]
  },
  {
   "cell_type": "markdown",
   "metadata": {},
   "source": [
    "* Retrieve the Item ID, Item Name, and Item Price columns\n",
    "\n",
    "\n",
    "* Group by Item ID and Item Name. Perform calculations to obtain purchase count, item price, and total purchase value\n",
    "\n",
    "\n",
    "* Create a summary data frame to hold the results\n",
    "\n",
    "\n",
    "* Sort the purchase count column in descending order\n",
    "\n",
    "\n",
    "* Optional: give the displayed data cleaner formatting\n",
    "\n",
    "\n",
    "* Display a preview of the summary data frame\n",
    "\n"
   ]
  },
  {
   "cell_type": "code",
   "execution_count": 9,
   "metadata": {},
   "outputs": [
    {
     "name": "stderr",
     "output_type": "stream",
     "text": [
      "C:\\Users\\HicoPC\\Anaconda3\\lib\\site-packages\\ipykernel_launcher.py:4: FutureWarning: 'Item ID' is both an index level and a column label.\n",
      "Defaulting to column, but this will raise an ambiguity error in a future version\n",
      "  after removing the cwd from sys.path.\n"
     ]
    },
    {
     "data": {
      "text/html": [
       "<style  type=\"text/css\" >\n",
       "</style>  \n",
       "<table id=\"T_51737414_8d14_11e8_a184_b0359f6fd050\" > \n",
       "<thead>    <tr> \n",
       "        <th class=\"blank level0\" ></th> \n",
       "        <th class=\"col_heading level0 col0\" >Item Name</th> \n",
       "        <th class=\"col_heading level0 col1\" >Purchase Count</th> \n",
       "        <th class=\"col_heading level0 col2\" >Item Price</th> \n",
       "        <th class=\"col_heading level0 col3\" >Total Purchase Value</th> \n",
       "    </tr>    <tr> \n",
       "        <th class=\"index_name level0\" >Item ID</th> \n",
       "        <th class=\"blank\" ></th> \n",
       "        <th class=\"blank\" ></th> \n",
       "        <th class=\"blank\" ></th> \n",
       "        <th class=\"blank\" ></th> \n",
       "    </tr></thead> \n",
       "<tbody>    <tr> \n",
       "        <th id=\"T_51737414_8d14_11e8_a184_b0359f6fd050level0_row0\" class=\"row_heading level0 row0\" >178</th> \n",
       "        <td id=\"T_51737414_8d14_11e8_a184_b0359f6fd050row0_col0\" class=\"data row0 col0\" >Oathbreaker, Last Hope of the Breaking Storm</td> \n",
       "        <td id=\"T_51737414_8d14_11e8_a184_b0359f6fd050row0_col1\" class=\"data row0 col1\" >12</td> \n",
       "        <td id=\"T_51737414_8d14_11e8_a184_b0359f6fd050row0_col2\" class=\"data row0 col2\" >$4.23</td> \n",
       "        <td id=\"T_51737414_8d14_11e8_a184_b0359f6fd050row0_col3\" class=\"data row0 col3\" >$50.76</td> \n",
       "    </tr>    <tr> \n",
       "        <th id=\"T_51737414_8d14_11e8_a184_b0359f6fd050level0_row1\" class=\"row_heading level0 row1\" >145</th> \n",
       "        <td id=\"T_51737414_8d14_11e8_a184_b0359f6fd050row1_col0\" class=\"data row1 col0\" >Fiery Glass Crusader</td> \n",
       "        <td id=\"T_51737414_8d14_11e8_a184_b0359f6fd050row1_col1\" class=\"data row1 col1\" >9</td> \n",
       "        <td id=\"T_51737414_8d14_11e8_a184_b0359f6fd050row1_col2\" class=\"data row1 col2\" >$4.58</td> \n",
       "        <td id=\"T_51737414_8d14_11e8_a184_b0359f6fd050row1_col3\" class=\"data row1 col3\" >$41.22</td> \n",
       "    </tr>    <tr> \n",
       "        <th id=\"T_51737414_8d14_11e8_a184_b0359f6fd050level0_row2\" class=\"row_heading level0 row2\" >108</th> \n",
       "        <td id=\"T_51737414_8d14_11e8_a184_b0359f6fd050row2_col0\" class=\"data row2 col0\" >Extraction, Quickblade Of Trembling Hands</td> \n",
       "        <td id=\"T_51737414_8d14_11e8_a184_b0359f6fd050row2_col1\" class=\"data row2 col1\" >9</td> \n",
       "        <td id=\"T_51737414_8d14_11e8_a184_b0359f6fd050row2_col2\" class=\"data row2 col2\" >$3.53</td> \n",
       "        <td id=\"T_51737414_8d14_11e8_a184_b0359f6fd050row2_col3\" class=\"data row2 col3\" >$31.77</td> \n",
       "    </tr>    <tr> \n",
       "        <th id=\"T_51737414_8d14_11e8_a184_b0359f6fd050level0_row3\" class=\"row_heading level0 row3\" >82</th> \n",
       "        <td id=\"T_51737414_8d14_11e8_a184_b0359f6fd050row3_col0\" class=\"data row3 col0\" >Nirvana</td> \n",
       "        <td id=\"T_51737414_8d14_11e8_a184_b0359f6fd050row3_col1\" class=\"data row3 col1\" >9</td> \n",
       "        <td id=\"T_51737414_8d14_11e8_a184_b0359f6fd050row3_col2\" class=\"data row3 col2\" >$4.90</td> \n",
       "        <td id=\"T_51737414_8d14_11e8_a184_b0359f6fd050row3_col3\" class=\"data row3 col3\" >$44.10</td> \n",
       "    </tr>    <tr> \n",
       "        <th id=\"T_51737414_8d14_11e8_a184_b0359f6fd050level0_row4\" class=\"row_heading level0 row4\" >19</th> \n",
       "        <td id=\"T_51737414_8d14_11e8_a184_b0359f6fd050row4_col0\" class=\"data row4 col0\" >Pursuit, Cudgel of Necromancy</td> \n",
       "        <td id=\"T_51737414_8d14_11e8_a184_b0359f6fd050row4_col1\" class=\"data row4 col1\" >8</td> \n",
       "        <td id=\"T_51737414_8d14_11e8_a184_b0359f6fd050row4_col2\" class=\"data row4 col2\" >$1.02</td> \n",
       "        <td id=\"T_51737414_8d14_11e8_a184_b0359f6fd050row4_col3\" class=\"data row4 col3\" >$8.16</td> \n",
       "    </tr></tbody> \n",
       "</table> "
      ],
      "text/plain": [
       "<pandas.io.formats.style.Styler at 0x2190affc8d0>"
      ]
     },
     "execution_count": 9,
     "metadata": {},
     "output_type": "execute_result"
    }
   ],
   "source": [
    "#Group and count each item\n",
    "top5ItemsID = pd.DataFrame(purchase_data.groupby('Item ID')['Item ID'].count())\n",
    "#Sort them\n",
    "top5ItemsID.sort_values('Item ID', ascending = False, inplace = True)\n",
    "#Determine top 5 \n",
    "top5ItemsID = top5ItemsID.iloc[0:5][:]\n",
    "#find the total purchase value of each item\n",
    "top5ItemsTotal = pd.DataFrame(purchase_data.groupby('Item ID')['Price'].sum())\n",
    "#merge purcahse count and total purcahse value \n",
    "top5_items = pd.merge(top5ItemsID, top5ItemsTotal, left_index = True, right_index = True)\n",
    "#drop duplicate items \n",
    "noDupItems = purchase_data.drop_duplicates(['Item ID'], keep = 'last')\n",
    "#merge to get all other info from the top 5 using the no dup df\n",
    "top5Merge_ID = pd.merge(top5_items, noDupItems, left_index = True, right_on = 'Item ID')\n",
    "#keep only necessary info\n",
    "top5Merge_ID = top5Merge_ID[['Item ID', 'Item Name', 'Item ID_x', 'Price_y', 'Price_x']]\n",
    "#index \n",
    "top5Merge_ID.set_index(['Item ID'], inplace = True)\n",
    "#rename columns\n",
    "top5Merge_ID.rename(columns =  {'Item ID_x': 'Purchase Count', 'Price_y': 'Item Price', 'Price_x': 'Total Purchase Value'}, inplace=True)\n",
    "#format\n",
    "top5Merge_ID.style.format({'Item Price': '${:.2f}', 'Total Purchase Value': '${:.2f}'})\n"
   ]
  },
  {
   "cell_type": "markdown",
   "metadata": {},
   "source": [
    "## Most Profitable Items"
   ]
  },
  {
   "cell_type": "markdown",
   "metadata": {},
   "source": [
    "* Sort the above table by total purchase value in descending order\n",
    "\n",
    "\n",
    "* Optional: give the displayed data cleaner formatting\n",
    "\n",
    "\n",
    "* Display a preview of the data frame\n",
    "\n"
   ]
  },
  {
   "cell_type": "code",
   "execution_count": 10,
   "metadata": {
    "scrolled": true
   },
   "outputs": [
    {
     "data": {
      "text/html": [
       "<style  type=\"text/css\" >\n",
       "</style>  \n",
       "<table id=\"T_51849f8c_8d14_11e8_ad37_b0359f6fd050\" > \n",
       "<thead>    <tr> \n",
       "        <th class=\"blank level0\" ></th> \n",
       "        <th class=\"col_heading level0 col0\" >Item Name</th> \n",
       "        <th class=\"col_heading level0 col1\" >Purchase Count</th> \n",
       "        <th class=\"col_heading level0 col2\" >Item Price</th> \n",
       "        <th class=\"col_heading level0 col3\" >Total Purchase Value</th> \n",
       "    </tr>    <tr> \n",
       "        <th class=\"index_name level0\" >Item ID</th> \n",
       "        <th class=\"blank\" ></th> \n",
       "        <th class=\"blank\" ></th> \n",
       "        <th class=\"blank\" ></th> \n",
       "        <th class=\"blank\" ></th> \n",
       "    </tr></thead> \n",
       "<tbody>    <tr> \n",
       "        <th id=\"T_51849f8c_8d14_11e8_ad37_b0359f6fd050level0_row0\" class=\"row_heading level0 row0\" >178</th> \n",
       "        <td id=\"T_51849f8c_8d14_11e8_ad37_b0359f6fd050row0_col0\" class=\"data row0 col0\" >Oathbreaker, Last Hope of the Breaking Storm</td> \n",
       "        <td id=\"T_51849f8c_8d14_11e8_ad37_b0359f6fd050row0_col1\" class=\"data row0 col1\" >12</td> \n",
       "        <td id=\"T_51849f8c_8d14_11e8_ad37_b0359f6fd050row0_col2\" class=\"data row0 col2\" >$4.23</td> \n",
       "        <td id=\"T_51849f8c_8d14_11e8_ad37_b0359f6fd050row0_col3\" class=\"data row0 col3\" >$50.76</td> \n",
       "    </tr>    <tr> \n",
       "        <th id=\"T_51849f8c_8d14_11e8_ad37_b0359f6fd050level0_row1\" class=\"row_heading level0 row1\" >82</th> \n",
       "        <td id=\"T_51849f8c_8d14_11e8_ad37_b0359f6fd050row1_col0\" class=\"data row1 col0\" >Nirvana</td> \n",
       "        <td id=\"T_51849f8c_8d14_11e8_ad37_b0359f6fd050row1_col1\" class=\"data row1 col1\" >9</td> \n",
       "        <td id=\"T_51849f8c_8d14_11e8_ad37_b0359f6fd050row1_col2\" class=\"data row1 col2\" >$4.90</td> \n",
       "        <td id=\"T_51849f8c_8d14_11e8_ad37_b0359f6fd050row1_col3\" class=\"data row1 col3\" >$44.10</td> \n",
       "    </tr>    <tr> \n",
       "        <th id=\"T_51849f8c_8d14_11e8_ad37_b0359f6fd050level0_row2\" class=\"row_heading level0 row2\" >145</th> \n",
       "        <td id=\"T_51849f8c_8d14_11e8_ad37_b0359f6fd050row2_col0\" class=\"data row2 col0\" >Fiery Glass Crusader</td> \n",
       "        <td id=\"T_51849f8c_8d14_11e8_ad37_b0359f6fd050row2_col1\" class=\"data row2 col1\" >9</td> \n",
       "        <td id=\"T_51849f8c_8d14_11e8_ad37_b0359f6fd050row2_col2\" class=\"data row2 col2\" >$4.58</td> \n",
       "        <td id=\"T_51849f8c_8d14_11e8_ad37_b0359f6fd050row2_col3\" class=\"data row2 col3\" >$41.22</td> \n",
       "    </tr>    <tr> \n",
       "        <th id=\"T_51849f8c_8d14_11e8_ad37_b0359f6fd050level0_row3\" class=\"row_heading level0 row3\" >92</th> \n",
       "        <td id=\"T_51849f8c_8d14_11e8_ad37_b0359f6fd050row3_col0\" class=\"data row3 col0\" >Final Critic</td> \n",
       "        <td id=\"T_51849f8c_8d14_11e8_ad37_b0359f6fd050row3_col1\" class=\"data row3 col1\" >8</td> \n",
       "        <td id=\"T_51849f8c_8d14_11e8_ad37_b0359f6fd050row3_col2\" class=\"data row3 col2\" >$4.88</td> \n",
       "        <td id=\"T_51849f8c_8d14_11e8_ad37_b0359f6fd050row3_col3\" class=\"data row3 col3\" >$39.04</td> \n",
       "    </tr>    <tr> \n",
       "        <th id=\"T_51849f8c_8d14_11e8_ad37_b0359f6fd050level0_row4\" class=\"row_heading level0 row4\" >103</th> \n",
       "        <td id=\"T_51849f8c_8d14_11e8_ad37_b0359f6fd050row4_col0\" class=\"data row4 col0\" >Singed Scalpel</td> \n",
       "        <td id=\"T_51849f8c_8d14_11e8_ad37_b0359f6fd050row4_col1\" class=\"data row4 col1\" >8</td> \n",
       "        <td id=\"T_51849f8c_8d14_11e8_ad37_b0359f6fd050row4_col2\" class=\"data row4 col2\" >$4.35</td> \n",
       "        <td id=\"T_51849f8c_8d14_11e8_ad37_b0359f6fd050row4_col3\" class=\"data row4 col3\" >$34.80</td> \n",
       "    </tr></tbody> \n",
       "</table> "
      ],
      "text/plain": [
       "<pandas.io.formats.style.Styler at 0x2190beba160>"
      ]
     },
     "execution_count": 10,
     "metadata": {},
     "output_type": "execute_result"
    }
   ],
   "source": [
    "# find total purcahse value and sort by high to low\n",
    "top5Profit = pd.DataFrame(purchase_data.groupby('Item ID')['Price'].sum())\n",
    "top5Profit.sort_values('Price', ascending = False, inplace = True)\n",
    "# only keep top 5\n",
    "top5Profit = top5Profit.iloc[0:5][:]\n",
    "#get item purchase count\n",
    "purCountProfit= pd.DataFrame(purchase_data.groupby('Item ID')['Item ID'].count())\n",
    "\n",
    "top5Profit = pd.merge(top5Profit, purCountProfit, left_index = True, right_index = True, how = 'left')\n",
    "top5MergeProfit = pd.merge(top5Profit, noDupItems, left_index = True, right_on = 'Item ID', how = 'left')\n",
    "top5MergeProfit = top5MergeProfit[['Item ID', 'Item Name', 'Item ID_x', 'Price_y','Price_x']]\n",
    "top5MergeProfit.set_index(['Item ID'], inplace=True)\n",
    "top5MergeProfit.rename(columns = {'Item ID_x': 'Purchase Count', 'Price_y': 'Item Price', 'Price_x': 'Total Purchase Value'}, inplace = True)\n",
    "top5MergeProfit.style.format({'Item Price': '${:.2f}', 'Total Purchase Value': '${:.2f}'})\n"
   ]
  },
  {
   "cell_type": "code",
   "execution_count": null,
   "metadata": {},
   "outputs": [],
   "source": [
    "##DATA ANALYSIS\n",
    "#1. Oathbreaker, Last Hope of the Breaking Storm is both the most popular and the most profitable item.\n",
    "#2. There were 780 purchases made by 576 unique players, which means 204 purchases (26.1%) were repeat purchasers. \n",
    "#3. Players over 40 years old spend, on average, the least per purchase ($3.19), but players between 35 and 40 years old spend the most ($4.76) per purchase. "
   ]
  }
 ],
 "metadata": {
  "anaconda-cloud": {},
  "kernel_info": {
   "name": "python3"
  },
  "kernelspec": {
   "display_name": "Python 3",
   "language": "python",
   "name": "python3"
  },
  "language_info": {
   "codemirror_mode": {
    "name": "ipython",
    "version": 3
   },
   "file_extension": ".py",
   "mimetype": "text/x-python",
   "name": "python",
   "nbconvert_exporter": "python",
   "pygments_lexer": "ipython3",
   "version": "3.6.5"
  },
  "nteract": {
   "version": "0.8.4"
  }
 },
 "nbformat": 4,
 "nbformat_minor": 1
}
